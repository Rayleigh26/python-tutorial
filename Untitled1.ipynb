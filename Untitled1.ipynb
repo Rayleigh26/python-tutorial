{
 "cells": [
  {
   "cell_type": "code",
   "execution_count": 3,
   "metadata": {},
   "outputs": [
    {
     "name": "stdout",
     "output_type": "stream",
     "text": [
      "Matrix([[2*x + y, x + 2*y], [3*x**2, 3*y**2]])\n"
     ]
    }
   ],
   "source": [
    "import numpy as np\n",
    "from sympy import *\n",
    "x0=1.5\n",
    "y0=0.5\n",
    "x= Symbol('x')\n",
    "\n",
    "y= Symbol('y')\n",
    "\n",
    "fxy= x**2 + x* y + y**2 - 7\n",
    "gxy= x**3 + y**3 - 9\n",
    "\n",
    "\n",
    "\n",
    "pdf_dx= diff(fxy, x)\n",
    "# pdf_dx=pdf_dx.doit()\n",
    "\n",
    "pdf_dy= diff(fxy, y)\n",
    "# pdf_dy=pdf_dy.doit()\n",
    "\n",
    "pdg_dx= diff(gxy, x)\n",
    "# pdd_dx=pdg_dx.doit()\n",
    "\n",
    "pdg_dy= diff(gxy, y)\n",
    "# pdg_dy=pdg_dy.doit()\n",
    "J = Matrix([pdf_dx,pdf_dy],[pdg_dx,pdg_dx])\n",
    "J.subs([(x,0),(y,0)])\n",
    "\n",
    "\n",
    "\n",
    "F = Matrix([fxy,gxy])\n",
    "t=F.jacobian([x,y])\n",
    "print(t)\n",
    "t_inv=t.inv()\n"
   ]
  },
  {
   "cell_type": "code",
   "execution_count": 1,
   "metadata": {},
   "outputs": [],
   "source": [
    "# import sympy as sp\n",
    "# from sympy import *\n",
    "# import numpy as np\n",
    "# x,y=sp.symbols('x,y', real=True)\n",
    "# J = Function('J')(x,y)\n",
    "# f1=-y\n",
    "# f2=x - 3*y*(1-x**2)\n",
    "# f1x=diff(f1,x)\n",
    "# f1y=diff(f1,y)\n",
    "# f2x=diff(f2,x)\n",
    "# f2y=diff(f2,y)\n",
    "# J=np.array([[f1x,f1y],[f2x,f2y]])\n",
    "# J1=J(0,0)\n",
    "# print (J1)"
   ]
  },
  {
   "cell_type": "code",
   "execution_count": null,
   "metadata": {},
   "outputs": [],
   "source": []
  },
  {
   "cell_type": "markdown",
   "metadata": {},
   "source": [
    "# PYTHON FULL TUTORIAL"
   ]
  },
  {
   "cell_type": "code",
   "execution_count": 16,
   "metadata": {},
   "outputs": [
    {
     "name": "stdout",
     "output_type": "stream",
     "text": [
      "3\n"
     ]
    },
    {
     "data": {
      "text/plain": [
       "14"
      ]
     },
     "execution_count": 16,
     "metadata": {},
     "output_type": "execute_result"
    }
   ],
   "source": [
    "\n",
    "a= \"hello this is the world\"\n",
    "print(a.count('l')) # this will count the number of provided argument in the string\n",
    "print(a.find(\"the\")) #this find command helps locate the position."
   ]
  },
  {
   "cell_type": "code",
   "execution_count": 4,
   "metadata": {},
   "outputs": [
    {
     "name": "stdout",
     "output_type": "stream",
     "text": [
      "The great one what's up?\n",
      "The great one what's up?. Welcome!\n",
      "The great one what's up?\n"
     ]
    }
   ],
   "source": [
    "name = \"what's up?\"\n",
    "greeting = \"The great one\"\n",
    "message0 = greeting + \" \" +name #one way to concattinate string\n",
    "print(message0)\n",
    "message = '{} {}. Welcome!'.format(greeting,name)    #the other way\n",
    "message1 = f'{greeting} {name}'    # we can pass variable directly to the place holder using f string\n",
    "print(message)\n",
    "print(message1)\n",
    "a= ' string'\n",
    "print(dir(a))    # this will show us the list of things we can do with the variable\n",
    "print(help(str))  #this will show us all the description of the function"
   ]
  },
  {
   "cell_type": "markdown",
   "metadata": {},
   "source": [
    "# Working with integers"
   ]
  },
  {
   "cell_type": "code",
   "execution_count": null,
   "metadata": {},
   "outputs": [
    {
     "name": "stdout",
     "output_type": "stream",
     "text": [
      "Enter marks obtained32\n",
      "10.666666666666666\n"
     ]
    }
   ],
   "source": [
    "\n",
    "for i in range(1,20):\n",
    "    a = int(input(\"Enter marks obtained\"))\n",
    "    result = a / 3\n",
    "    print(result)\n"
   ]
  },
  {
   "cell_type": "markdown",
   "metadata": {},
   "source": [
    "# Dictionary"
   ]
  },
  {
   "cell_type": "code",
   "execution_count": 15,
   "metadata": {},
   "outputs": [
    {
     "name": "stdout",
     "output_type": "stream",
     "text": [
      "{'name': 'john', 'age': 19}\n",
      "{'name': 'jane', 'age': 19}\n",
      "2\n",
      "jane\n"
     ]
    }
   ],
   "source": [
    "\n",
    "student = {'name':'john','age':19}\n",
    "print(student)\n",
    "student['name'] = 'jane'\n",
    "print(student)\n",
    "print(len(student))\n",
    "b=student.pop('name')\n",
    "print(b)\n"
   ]
  },
  {
   "cell_type": "markdown",
   "metadata": {},
   "source": [
    "# conditionals and booleans - if else and elif statements"
   ]
  },
  {
   "cell_type": "code",
   "execution_count": 32,
   "metadata": {},
   "outputs": [
    {
     "name": "stdout",
     "output_type": "stream",
     "text": [
      "hello world\n",
      "hello world\n",
      "language is java\n",
      "Admin page\n",
      "please log in\n",
      "true\n"
     ]
    }
   ],
   "source": [
    "\n",
    "if True:\n",
    "    print('hello world')\n",
    "if not False:\n",
    "    print('hello world')\n",
    "language = 'java'\n",
    "if language == 'python':\n",
    "    print('the language is python')\n",
    "elif language == 'java':\n",
    "    print('language is java')\n",
    "else:\n",
    "    print('incorrect')\n",
    "\n",
    "    \n",
    "#and\n",
    "#or\n",
    "#not\n",
    "user = 'Admin'\n",
    "logged_in = True\n",
    "if user == 'Admin' and logged_in:\n",
    "    print('Admin page')\n",
    "else:\n",
    "    print('Bad create')\n",
    "    \n",
    "    \n",
    "\n",
    "logged_in = False\n",
    "if not logged_in:\n",
    "    print('please log in')\n",
    "else:\n",
    "    print('welcome')\n",
    "\n",
    "    \n",
    "value=0\n",
    "value1=2\n",
    "if value1:\n",
    "    print('true')\n",
    "else: \n",
    "    print('false')"
   ]
  },
  {
   "cell_type": "markdown",
   "metadata": {},
   "source": [
    "# loops in python"
   ]
  },
  {
   "cell_type": "code",
   "execution_count": 11,
   "metadata": {},
   "outputs": [
    {
     "name": "stdout",
     "output_type": "stream",
     "text": [
      "1\n",
      "2\n"
     ]
    }
   ],
   "source": [
    "\n",
    "###break statement\n",
    "num =[1,2,3,4,5]\n",
    "for i in num:\n",
    "    \n",
    "    if i==3:\n",
    "        break\n",
    "        print(\"so this line will not be printed\")\n",
    "    print (i)"
   ]
  },
  {
   "cell_type": "code",
   "execution_count": 12,
   "metadata": {},
   "outputs": [
    {
     "name": "stdout",
     "output_type": "stream",
     "text": [
      "1\n",
      "2\n",
      "found\n",
      "4\n",
      "5\n"
     ]
    }
   ],
   "source": [
    "##continue statement\n",
    "num = [1,2,3,4,5]\n",
    "for i in num:\n",
    "    if i ==3:\n",
    "        print(\"found\")\n",
    "        continue\n",
    "        print(\"continue but from the loop so this line will not be printed\")\n",
    "    print(i)\n",
    "    "
   ]
  },
  {
   "cell_type": "code",
   "execution_count": 21,
   "metadata": {},
   "outputs": [
    {
     "name": "stdout",
     "output_type": "stream",
     "text": [
      "1 a\n",
      "1 b\n",
      "1 c\n",
      "2 a\n",
      "2 b\n",
      "2 c\n",
      "3 a\n",
      "3 b\n",
      "3 c\n",
      "0\n",
      "1\n",
      "2\n",
      "3\n",
      "4\n",
      "5\n",
      "6\n",
      "7\n",
      "8\n",
      "9\n",
      "2\n",
      "3\n",
      "4\n",
      "5\n",
      "6\n",
      "7\n",
      "8\n",
      "9\n"
     ]
    }
   ],
   "source": [
    "##nested loops\n",
    "n=[1,2,3]\n",
    "for i in n:\n",
    "    for letters in 'abc':\n",
    "        print(i,letters)\n",
    "for i in range(10):   #this will start from 0 \n",
    "    print (i)\n",
    "for i in range(2,10):  #this will start from 2\n",
    "    print(i)"
   ]
  },
  {
   "cell_type": "code",
   "execution_count": 22,
   "metadata": {},
   "outputs": [
    {
     "name": "stdout",
     "output_type": "stream",
     "text": [
      "1\n",
      "2\n",
      "3\n",
      "4\n",
      "5\n",
      "6\n",
      "7\n",
      "8\n",
      "9\n"
     ]
    }
   ],
   "source": [
    "###while loop\n",
    "x=1\n",
    "while x<10:   ##to create infinite loop we can write while True:\n",
    "    print(x)  ##we can use break infinite loop using break statement in while loop also\n",
    "    x+=1"
   ]
  },
  {
   "cell_type": "markdown",
   "metadata": {},
   "source": [
    "# Functions"
   ]
  },
  {
   "cell_type": "code",
   "execution_count": 2,
   "metadata": {},
   "outputs": [
    {
     "name": "stdout",
     "output_type": "stream",
     "text": [
      "hi,You\n"
     ]
    }
   ],
   "source": [
    "def hello_func(greeting,name='You'):\n",
    "    return '{},{}'.format(greeting,name)\n",
    "print(hello_func('hi'))\n"
   ]
  },
  {
   "cell_type": "code",
   "execution_count": 5,
   "metadata": {},
   "outputs": [
    {
     "name": "stdout",
     "output_type": "stream",
     "text": [
      "('maths', 'art')\n",
      "{'name': 'john', 'age': 19}\n",
      "(['maths', 'art'], {'name': 'john', 'age': 19})\n",
      "{}\n",
      "('maths', 'art')\n",
      "{'name': 'john', 'age': 19}\n"
     ]
    }
   ],
   "source": [
    "##args and kwargs \n",
    "def student_info(*args,**kwargs):\n",
    "    print(args)\n",
    "    print(kwargs)###these will accept any positional arguments and keyword. we can use any thing\n",
    "                                    ### in the place of args and kwargs but that is convention followed\n",
    "student_info('maths','art',name='john',age=19)\n",
    "#args are positinal arguments wherease kwargs are dictionary with keywords\n",
    "\n",
    "#but\n",
    "info = {'name':'john','age':19}\n",
    "courses= ['maths','art']\n",
    "student_info(courses,info) ##in this all the dictionary and list are passed as positional arguments\n",
    "student_info(*courses,**info)  #this will unpack the values and distribute to args and kwargs\n",
    "\n"
   ]
  },
  {
   "cell_type": "markdown",
   "metadata": {},
   "source": [
    "# Import Modules and Exploring The Standard Library"
   ]
  },
  {
   "cell_type": "code",
   "execution_count": null,
   "metadata": {},
   "outputs": [],
   "source": [
    "#to import module simply save the module in the same directory \n",
    "#and use\n",
    "import module_name\n",
    "# after importing the module all the variables and even print statements will all be imported\n"
   ]
  },
  {
   "cell_type": "code",
   "execution_count": null,
   "metadata": {},
   "outputs": [],
   "source": [
    "#if we want to use the function inside the module then we have to use dot command \n",
    "d = module_name.function_name(args)\n",
    "\n",
    "#we can simply import necessary function from a module alse using\n",
    "from module_name import function_name\n",
    "\n",
    "#we can also import necessary variable from modules\n",
    "from module_name import variable_name\n",
    "\n",
    "#we can use edit module name to some things using\n",
    "import module_name as mm\n",
    "#even for function and variable name\n",
    "from module_name import func_name as fi,variable_name as vr\n",
    "\n",
    "\n",
    "\n"
   ]
  },
  {
   "cell_type": "code",
   "execution_count": 8,
   "metadata": {},
   "outputs": [
    {
     "name": "stdout",
     "output_type": "stream",
     "text": [
      "['/home/k-adu', '/usr/lib/python38.zip', '/usr/lib/python3.8', '/usr/lib/python3.8/lib-dynload', '', '/home/k-adu/.local/lib/python3.8/site-packages', '/usr/local/lib/python3.8/dist-packages', '/usr/lib/python3/dist-packages', '/usr/lib/python3/dist-packages/IPython/extensions', '/home/k-adu/.ipython']\n"
     ]
    }
   ],
   "source": [
    "#if we want to find where python looks for modules when imported we can use \n",
    "import sys\n",
    "print(sys.path)"
   ]
  },
  {
   "cell_type": "code",
   "execution_count": null,
   "metadata": {},
   "outputs": [],
   "source": [
    "#if we want to add a path to the modules we can use \n",
    "import sys\n",
    "sys.path.append('location_name')"
   ]
  },
  {
   "cell_type": "code",
   "execution_count": 12,
   "metadata": {},
   "outputs": [
    {
     "data": {
      "text/plain": [
       "3"
      ]
     },
     "execution_count": 12,
     "metadata": {},
     "output_type": "execute_result"
    }
   ],
   "source": [
    "#if we want a random value from a created list we can use random module\n",
    "import random \n",
    "n =[1,2,3,4,5]\n",
    "random_value = random.choice(n)\n",
    "random_value"
   ]
  },
  {
   "cell_type": "code",
   "execution_count": 16,
   "metadata": {},
   "outputs": [
    {
     "data": {
      "text/plain": [
       "datetime.date(2021, 1, 7)"
      ]
     },
     "execution_count": 16,
     "metadata": {},
     "output_type": "execute_result"
    }
   ],
   "source": [
    "#the other useful standard library is datetime and calander\n",
    "import datetime\n",
    "todays_date = datetime.date.today()\n",
    "todays_date"
   ]
  },
  {
   "cell_type": "code",
   "execution_count": 17,
   "metadata": {},
   "outputs": [],
   "source": [
    "#just some python jokes\n",
    "import antigravity"
   ]
  },
  {
   "cell_type": "markdown",
   "metadata": {},
   "source": [
    "# creating virtual envirnoment"
   ]
  },
  {
   "cell_type": "code",
   "execution_count": null,
   "metadata": {},
   "outputs": [],
   "source": [
    "#using virtualenv is highly recommended coz the original packages and lib will remain unaffected\n",
    "#first of all install virtualenv\n",
    "pip install virtualenv\n",
    "\n",
    "#then go to destination and create a virtual envirnoment \n",
    "#in terminal\n",
    "virtualenv project_name\n",
    "\n",
    "#to activate virtual envirnoment\n",
    "source project_name/bin/activate\n",
    "\n",
    "#to see list of packages\n",
    "pip list\n",
    "\n",
    "#to get out of virtual envirnoment type \n",
    "deactivate"
   ]
  },
  {
   "cell_type": "markdown",
   "metadata": {},
   "source": [
    "# Variable Scope - Understanding the LEGB rule and global/nonlocal statements"
   ]
  },
  {
   "cell_type": "code",
   "execution_count": 1,
   "metadata": {},
   "outputs": [
    {
     "name": "stdout",
     "output_type": "stream",
     "text": [
      "local x\n",
      "global x\n"
     ]
    }
   ],
   "source": [
    "#example of local and global variable\n",
    "x= 'global x'\n",
    "\n",
    "def func():\n",
    "    x='local x'\n",
    "    print(x)\n",
    "func()\n",
    "print(x)"
   ]
  },
  {
   "cell_type": "code",
   "execution_count": 2,
   "metadata": {},
   "outputs": [
    {
     "name": "stdout",
     "output_type": "stream",
     "text": [
      "global x\n"
     ]
    }
   ],
   "source": [
    "#example 2\n",
    "x = 'global x'\n",
    "def func():\n",
    "    print(x)\n",
    "func()"
   ]
  },
  {
   "cell_type": "code",
   "execution_count": 3,
   "metadata": {},
   "outputs": [
    {
     "name": "stdout",
     "output_type": "stream",
     "text": [
      "local x\n",
      "local x\n"
     ]
    }
   ],
   "source": [
    "#example 3\n",
    "x = 'global x'\n",
    "def func():\n",
    "    global x\n",
    "    x = 'local x'\n",
    "    print(x)\n",
    "func()\n",
    "print(x)"
   ]
  },
  {
   "cell_type": "code",
   "execution_count": 1,
   "metadata": {},
   "outputs": [
    {
     "name": "stdout",
     "output_type": "stream",
     "text": [
      "inner x\n",
      "outer x\n"
     ]
    }
   ],
   "source": [
    "#example 4\n",
    "def outer_fun():\n",
    "    x = 'outer x'\n",
    "    def inner_fun():\n",
    "        x= 'inner x'\n",
    "        print(x)\n",
    "    inner_fun()\n",
    "    print(x)\n",
    "outer_fun()"
   ]
  },
  {
   "cell_type": "markdown",
   "metadata": {},
   "source": [
    "# Slicing list and strings"
   ]
  },
  {
   "cell_type": "code",
   "execution_count": 9,
   "metadata": {},
   "outputs": [
    {
     "name": "stdout",
     "output_type": "stream",
     "text": [
      "[1, 2, 3]\n",
      "[3, 4, 5]\n",
      "[1, 3, 5]\n"
     ]
    }
   ],
   "source": [
    "a = [1,2,3,4,5,6]\n",
    "print(a[:3])  ##exclusive third index inclusive zero index\n",
    "print(a[2:5]) # exclude 5th index include 2nd index\n",
    "print(a[:5:2]) #3rd argument jump the index "
   ]
  },
  {
   "cell_type": "markdown",
   "metadata": {},
   "source": [
    "# Sorting list,tuples and objects"
   ]
  },
  {
   "cell_type": "code",
   "execution_count": 27,
   "metadata": {},
   "outputs": [
    {
     "name": "stdout",
     "output_type": "stream",
     "text": [
      "[1, 2, 3, 4, 5, 6, 7, 8, 9]\n",
      "[3, 2, 1, 5, 4, 9, 7, 8, 6]\n",
      "[9, 8, 7, 6, 5, 4, 3, 2, 1]\n",
      "[1, 2, 3, 4, 5, 7, 8, 9]\n",
      "['address', 'age', 'name', 'phoneno']\n"
     ]
    }
   ],
   "source": [
    "#using sorted function\n",
    "li = [3,2,1,5,4,9,7,8,6]\n",
    "s_li = sorted(li)      #this will return a value\n",
    "print(s_li)\n",
    "print(li)    #advantage:original will not be affected\n",
    "#sorting in desending order \n",
    "s_li = sorted(li, reverse=True)\n",
    "print(s_li)\n",
    "\n",
    "#advantage of sorted are\n",
    "# 1. we can use it to sort tuples and it will return us a sorted lise\n",
    "# 2. we can use it to sort a dictionary and it will return us the sorted keys\n",
    "#examples \n",
    "tu = (2,4,5,1,3,7,8,9)\n",
    "s_tu = sorted(tu)\n",
    "print(s_tu)\n",
    "\n",
    "di = {'name':'john','age':19,'address':'pokhara','phoneno':9863474868}\n",
    "s_di = sorted(di)\n",
    "print(s_di)\n"
   ]
  },
  {
   "cell_type": "code",
   "execution_count": 28,
   "metadata": {},
   "outputs": [
    {
     "name": "stdout",
     "output_type": "stream",
     "text": [
      "[1, 2, 3, 4, 5, 6, 7, 8, 9]\n",
      "[9, 8, 7, 6, 5, 4, 3, 2, 1]\n",
      "None\n"
     ]
    }
   ],
   "source": [
    "#using .sort() method \n",
    "li = [9,3,2,4,5,6,7,8,1]\n",
    "li.sort()\n",
    "print(li)  #oringinal will be affected\n",
    "li.sort(reverse=True)\n",
    "print(li)\n",
    "print(li.sort(reverse=True))  #this wont return a value\n",
    "\n",
    "#if we apply .sort to tuples it will generate a error "
   ]
  },
  {
   "cell_type": "markdown",
   "metadata": {},
   "source": [
    "# OOP using python"
   ]
  },
  {
   "cell_type": "raw",
   "metadata": {},
   "source": [
    "class and Instances"
   ]
  },
  {
   "cell_type": "code",
   "execution_count": 2,
   "metadata": {},
   "outputs": [
    {
     "name": "stdout",
     "output_type": "stream",
     "text": [
      "rioferdinand@gmail.com\n"
     ]
    }
   ],
   "source": [
    "class employee:\n",
    "    pass\n",
    "emp1 = employee()\n",
    "emp2= employee()\n",
    "\n",
    "emp1.name = 'rio'\n",
    "emp1.surname = 'ferdinand'\n",
    "emp1.email = 'rioferdinand@gmail.com'\n",
    "\n",
    "print(emp1.email)\n",
    "\n",
    "#disadvantage is that we hve to manually assign all the employee value\n",
    "\n",
    "    "
   ]
  },
  {
   "cell_type": "code",
   "execution_count": 3,
   "metadata": {},
   "outputs": [
    {
     "name": "stdout",
     "output_type": "stream",
     "text": [
      "wayneroonie@gmail.com\n"
     ]
    }
   ],
   "source": [
    "#to overcome the diasadvantage we can use\n",
    "class employee:\n",
    "    \n",
    "    def __init__(self,first,last):\n",
    "        self.first = first\n",
    "        self.last = last\n",
    "        self.email = first+last+'@gmail.com'\n",
    "emp1 = employee('wayne','roonie')\n",
    "print(emp1.email)"
   ]
  },
  {
   "cell_type": "code",
   "execution_count": null,
   "metadata": {},
   "outputs": [],
   "source": []
  }
 ],
 "metadata": {
  "kernelspec": {
   "display_name": "Python 3",
   "language": "python",
   "name": "python3"
  },
  "language_info": {
   "codemirror_mode": {
    "name": "ipython",
    "version": 3
   },
   "file_extension": ".py",
   "mimetype": "text/x-python",
   "name": "python",
   "nbconvert_exporter": "python",
   "pygments_lexer": "ipython3",
   "version": "3.8.5"
  }
 },
 "nbformat": 4,
 "nbformat_minor": 4
}
